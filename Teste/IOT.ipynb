{
 "cells": [
  {
   "cell_type": "markdown",
   "metadata": {},
   "source": [
    "### Resumo dos pontos chave do documento \"NPR2324_IoT_PT.pdf\"\n",
    "\n",
    "#### Introdução ao IoT\n",
    "- **Visão IoT**: Dispositivos embebidos, chamados de objetos inteligentes, tornam-se dispositivos IP integrados na Internet.\n",
    "- **Componentes**: Dispositivos com chips que podem enviar dados para a nuvem ou receber ordens para atuar.\n",
    "- **Serviços**: Utilização de serviços web para controlar dispositivos.\n",
    "- **Endereçamento IPv6**: Necessidade de IPv6 devido ao grande número de dispositivos【12†source】.\n",
    "\n",
    "#### Necessidade de Normas\n",
    "- **Normas e Protocolos**: IEEE 802.15.4, Bluetooth LE, 6LoWPAN.\n",
    "- **Objetivos**: Facilitar a conexão de dispositivos à Internet sem a necessidade de gateways ou proxies de conversão, utilizando a infraestrutura de rede existente【12†source】【12†source】.\n",
    "\n",
    "#### Aplicações do IoT\n",
    "- **Domótica e Automação**: Aplicações residenciais e industriais.\n",
    "- **Cuidados de Saúde**: Monitoramento e gestão de saúde.\n",
    "- **Logística e Monitoramento Ambiental**: Rastreio de bens e monitoramento ambiental em tempo real.\n",
    "- **Infraestruturas Inteligentes**: Smart metering e smart grid【12†source】.\n",
    "\n",
    "#### IEEE 802.15.4\n",
    "- **Características**: Baixo consumo de energia (menos de 1% do WiFi), baixa potência de rádio (inferior a 1mW), largura de banda de 250 Kbps.\n",
    "- **Topologias**: Estrela, Peer-to-Peer, Árvore (Cluster Tree).\n",
    "- **Protocolos de Acesso ao Meio**: CSMA-CA (Carrier Sense Multiple Access – Collision Avoidance)【12†source】【12†source】【12†source】【12†source】.\n",
    "\n",
    "#### 6LoWPAN (IPv6 over low-power wireless personal area networks)\n",
    "- **Objetivos**: Adaptar IPv6 ao IEEE 802.15.4, reduzir overhead, aumentar eficiência.\n",
    "- **Métodos de Compressão**: HC1 e HC2 para compressão de cabeçalhos IPv6 e UDP, respectivamente. Novo método IPHC para compressão eficiente.\n",
    "- **Serviços**: Fragmentação e reagrupamento, compressão do cabeçalho, reenvio no nível 2【12†source】【12†source】.\n",
    "\n",
    "#### Compressão em 6LoWPAN\n",
    "- **IPv6**: Redução do tamanho do cabeçalho IPv6, omitindo informações deduzíveis (como endereços baseados em MAC).\n",
    "- **UDP**: Compressão do cabeçalho UDP, omitindo o tamanho e checksum quando possível.\n",
    "- **Cabeçalhos**: Uso de cabeçalhos específicos para routing MESH controlado pela camada de adaptação 6LoWPAN【12†source】【12†source】【12†source】.\n",
    "\n",
    "#### Conclusão\n",
    "- O documento aborda detalhadamente os conceitos, normas, características técnicas e aplicações do IoT, com ênfase em protocolos e técnicas de compressão para otimizar a comunicação em redes de dispositivos de baixa potência."
   ]
  }
 ],
 "metadata": {
  "language_info": {
   "name": "python"
  }
 },
 "nbformat": 4,
 "nbformat_minor": 2
}
