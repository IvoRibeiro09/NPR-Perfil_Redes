{
 "cells": [
  {
   "cell_type": "markdown",
   "metadata": {},
   "source": [
    "### 1. Introdução\n",
    "\n",
    "#### a) Definição de “arquitetura de rede”\n",
    "Arquitetura de rede refere-se ao projeto e estrutura de uma rede de comunicação de dados, incluindo a disposição de hardware, software, protocolos e funcionalidades. Ela define a forma como os diversos componentes de uma rede interagem entre si, como dados são transmitidos, gerenciados e protegidos, além das políticas de controle e operação da rede.\n",
    "\n",
    "#### b) Redes SDN como uma arquitetura emergente\n",
    "Sim, as redes SDN (Software Defined Network) são um exemplo de uma arquitetura emergente. As SDNs representam uma mudança fundamental na forma como as redes são projetadas e gerenciadas, ao separar o plano de controle do plano de dados. Isso permite uma maior flexibilidade, gerenciamento centralizado, capacidade de programação e adaptação dinâmica às necessidades da rede, resultando em maior eficiência e inovação na gestão de redes.\n",
    "\n",
    "### 2. Redes AdHoc\n",
    "\n",
    "#### a) Protocolos proativos e reação a falhas de ligações\n",
    "Os protocolos proativos em redes AdHoc mantêm rotas atualizadas constantemente, independentemente de haver ou não necessidade imediata de transmissão de dados. Eles reagem rapidamente a falhas de ligações, como a movimentação de um nó, ao recalcular e atualizar as tabelas de roteamento continuamente. Isso resulta em baixa latência na comunicação, pois as rotas são pré-determinadas. No entanto, esse benefício vem ao custo de maior sobrecarga de controle, já que atualizações frequentes consomem largura de banda e recursos de processamento.\n",
    "\n",
    "#### b) Comentário sobre OLSR em redes de grande dimensão e mobilidade\n",
    "A afirmação “O protocolo OLSR (Optimized Link-State Routing) é um protocolo proactivo pouco adequado a redes de grande dimensão e com grande mobilidade dos nós” é válida. OLSR, sendo um protocolo proativo, gera um grande volume de mensagens de controle para manter as tabelas de roteamento atualizadas, o que pode resultar em uma sobrecarga significativa em redes grandes. Além disso, em ambientes com alta mobilidade, a frequência das atualizações necessárias aumenta, causando ainda mais tráfego de controle e potencialmente reduzindo a eficiência da rede.\n",
    "\n",
    "### 3. Redes Tolerantes a Atrasos\n",
    "\n",
    "As redes DTN (Delay Tolerant Networks) assumem que a conectividade entre nós pode ser intermitente e que os dados podem ser armazenados e retransmitidos posteriormente, quando a conectividade for restabelecida. O encaminhamento tradicional, que presume conexões contínuas, falha nessas condições porque não pode manter rotas estáveis e disponíveis. Em DTNs, ambos os processos de routing (roteamento) e forwarding (encaminhamento) precisam ser alterados. O roteamento precisa ser adaptado para considerar a intermitência e a previsibilidade das conexões, utilizando técnicas como o roteamento oportunista. O encaminhamento precisa ser capaz de armazenar e retransmitir dados conforme necessário, muitas vezes recorrendo a estratégias como \"store-carry-forward\".\n",
    "\n",
    "### 4. Redes Veiculares\n",
    "\n",
    "#### a) Comunicações V2V vs. Sensores no veículo\n",
    "As comunicações V2V (Vehicle-to-Vehicle) não podem dispensar completamente os sensores do veículo, como câmeras de vídeo 360º, sensores de distância RADAR/LIDAR, pois esses sensores fornecem dados críticos em tempo real sobre o ambiente imediato do veículo. Por outro lado, os sensores, apesar de sua crescente sofisticação, não podem substituir as comunicações V2V, que permitem a troca de informações entre veículos sobre eventos fora do alcance dos sensores individuais, como acidentes ou condições de tráfego adiante. Ambos são complementares e essenciais para a condução segura e eficiente.\n",
    "\n",
    "#### b) Mensagens do tipo CAM\n",
    "Um veículo precisa enviar periodicamente mensagens CAM (Cooperative Awareness Messages) para informar os veículos e a infraestrutura ao redor sobre sua posição, velocidade, direção e outras informações relevantes. Os destinatários dessas mensagens são outros veículos próximos e unidades de infraestrutura rodoviária, permitindo a coordenação e a conscientização situacional entre todos os atores no ecossistema de tráfego.\n",
    "\n",
    "#### c) Estratégia de encaminhamento adequada às redes veiculares\n",
    "Uma estratégia de encaminhamento adequada para redes veiculares é a utilização de protocolos geograficamente direcionados, como o Greedy Perimeter Stateless Routing (GPSR). Este protocolo utiliza a posição dos nós (veículos) para tomar decisões de encaminhamento, escolhendo o nó vizinho que está mais próximo do destino como o próximo salto. Em situações onde o roteamento direto não é possível, o GPSR utiliza a técnica de \"perimeter routing\" para encontrar uma rota alternativa.\n",
    "\n",
    "### 5. IoT\n",
    "\n",
    "#### a) Principal motivação do 6LowPAN\n",
    "A principal motivação do 6LowPAN (IPv6 over Low Power Wireless Personal Area Networks) é permitir que dispositivos de baixo consumo de energia e com recursos limitados, comuns em redes IoT, possam se comunicar eficientemente utilizando o protocolo IPv6. Isso facilita a integração desses dispositivos em redes maiores baseadas em IPv6, promovendo a interoperabilidade e a escalabilidade das redes IoT.\n",
    "\n",
    "#### b) Comentário sobre CoAP\n",
    "A afirmação “O CoAP não procura ser um HTTP compactado, mas sim um protocolo Web especializado” é correta. O CoAP (Constrained Application Protocol) foi projetado especificamente para dispositivos com recursos limitados, como aqueles encontrados em redes IoT. Embora inspirado no HTTP, o CoAP é mais leve, com menor sobrecarga de comunicação e suporte a funcionalidades específicas de IoT, como multicast, baixo consumo de energia e operação em redes com alta latência ou conectividade intermitente. Ele é especializado para funcionar eficientemente em ambientes com restrições de recursos, ao invés de simplesmente ser uma versão compactada do HTTP."
   ]
  }
 ],
 "metadata": {
  "language_info": {
   "name": "python"
  }
 },
 "nbformat": 4,
 "nbformat_minor": 2
}
