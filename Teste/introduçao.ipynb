{
 "cells": [
  {
   "cell_type": "markdown",
   "metadata": {},
   "source": [
    " O documento \"NPR2324_Introdução.pdf\" aborda diversos tópicos sobre as arquiteturas de redes e suas evoluções. Aqui está um resumo detalhado com os pontos chave:\n",
    "\n",
    "### 1. Introdução\n",
    "- **Arquiteturas de Rede:** Definição e descrição de modelos abstratos que estabelecem princípios comuns e regras de comportamento para componentes de rede.\n",
    "- **Requisitos da Internet de hoje:** Conectividade global, robustez, heterogeneidade, gestão distribuída e escalabilidade.\n",
    "\n",
    "### 2. Arquiteturas Emergentes de Redes\n",
    "- **Redes Tolerantes a Atrasos (DTNs):** Redes projetadas para funcionar em ambientes com alta latência.\n",
    "- **Redes de Dados Nomeados (NDNs):** Centralizam a comunicação na informação em vez dos sistemas terminais, nomeando dados e encaminhando pacotes com base nesses nomes.\n",
    "- **Redes Definidas por Software (SDNs):** Utilizam controladores centralizados que definem o comportamento dos switches na rede.\n",
    "\n",
    "### 3. A Arquitetura da Internet de Hoje\n",
    "- **Endereçamento e Encaminhamento:** Endereços IP dependem da localização, e mudanças de localização exigem mudanças de endereço.\n",
    "- **Comutação de Pacotes:** Informações são divididas em pacotes e enviadas independentemente pela rede. Encaminhamento baseado em endereços IP.\n",
    "\n",
    "### 4. Limitações da Arquitetura Atual\n",
    "- **Mobilidade dos Nós:** A mudança de localização exige mudanças de endereço IP, o que é problemático para nós móveis.\n",
    "- **Qualidade de Serviço (QoS):** A Internet atual opera em um modelo de \"melhor esforço\", sem garantias de desempenho específico.\n",
    "\n",
    "### 5. Cenários de Evolução\n",
    "- **Redes de Dados Nomeados (NDNs):**\n",
    "  - **Funcionamento:** Dados são divididos em pedaços identificáveis individualmente. Pacotes de interesse são enviados e, quando atingem o local contendo os dados, um pacote de dados é enviado de volta, seguindo o caminho inverso.\n",
    "  - **Vantagens:** Projetadas para distribuição de conteúdos, permitindo maior eficiência no uso e armazenamento de dados.\n",
    "  \n",
    "### 6. Redes Definidas por Software (SDNs)\n",
    "- **Arquitetura das SDNs:** Utilização de controladores que possuem uma visão global da rede e preenchem as tabelas de fluxos dos switches.\n",
    "- **Tabelas de Fluxos:** Generalização do reenvio de pacotes com base em múltiplos campos de cabeçalho, permitindo ações como reenvio, descarte e modificação.\n",
    "\n",
    "### 7. Exemplo de OpenFlow em SDNs\n",
    "- **Match e Action:** Os pacotes podem ser direcionados para portas específicas, descartados ou modificados com base em critérios definidos nos cabeçalhos dos pacotes.\n",
    "\n",
    "Este resumo captura os principais pontos abordados no documento, destacando as definições, as arquiteturas atuais e emergentes, suas limitações e as propostas de evolução para atender às demandas da Internet moderna【6:0†source】【6:1†source】【6:2†source】【6:3†source】【6:4†source】."
   ]
  }
 ],
 "metadata": {
  "language_info": {
   "name": "python"
  }
 },
 "nbformat": 4,
 "nbformat_minor": 2
}
