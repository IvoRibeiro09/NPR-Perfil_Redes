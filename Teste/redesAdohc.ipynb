{
 "cells": [
  {
   "cell_type": "markdown",
   "metadata": {},
   "source": [
    "Aqui está um resumo dos pontos chave do documento \"Redes Adhoc\":\n",
    "\n",
    "### Redes Móveis Adhoc (MANETs)\n",
    "1. **Definição e Cenários de Uso:**\n",
    "   - **Cenários sem infraestrutura:** Útil onde infraestruturas de rede tradicionais não estão disponíveis ou são impraticáveis, como em cenários de catástrofe e militares, ou em conferências e eventos públicos.\n",
    "   - **Aplicações específicas:** Incluem comunicações em grupos espontâneos, partilha de informação em eventos públicos e redes pessoais de dispositivos locais【20:4†source】.\n",
    "\n",
    "2. **Desafios:**\n",
    "   - **Arquitetura de Encaminhamento:** Pode ser plana ou hierárquica. A arquitetura plana tem problemas de escalabilidade, enquanto a hierárquica reduz a sobrecarga de informação mas requer uma organização em clusters com líderes【20:4†source】.\n",
    "   - **Ligações Unidirecionais/Bidirecionais:** Nem todos os links podem ser assumidos como bidirecionais devido a diferentes potências de transmissão e sensibilidade dos dispositivos, além de interferências e modos \"silêncio\"【20:4†source】.\n",
    "   - **Super-Dispositivos:** Dispositivos com mais recursos (bateria, capacidade de processamento) podem atuar como nodos principais numa rede de backbone【20:4†source】.\n",
    "\n",
    "3. **Protocolos de Encaminhamento:**\n",
    "   - **Pro-activos (Baseados em Tabela):** Mantêm informação de encaminhamento atualizada continuamente【20:4†source】.\n",
    "   - **Reactivos (A Pedido):** Calculam rotas apenas quando necessário【20:4†source】.\n",
    "\n",
    "### Protocolos Específicos\n",
    "1. **WRP (Wireless Routing Protocol):**\n",
    "   - **Operação:** Nós trocam mensagens de atualização de rotas com vizinhos, confirmando-as para evitar falhas. Utiliza um número de sequência para cada mensagem para assegurar atualizações corretas【20:2†source】.\n",
    "   - **Exemplo de Funcionamento:** Se uma ligação falhar, os nós recalculam e difundem rotas alternativas. As tabelas de roteamento são constantemente atualizadas com os novos custos e caminhos【20:2†source】【20:3†source】.\n",
    "   - **Vantagens e Limitações:** Resolve o problema de contagem até ao infinito e convergência rápida após falhas, mas requer mensagens de atualização grandes e a manutenção de várias tabelas por nó【20:3†source】.\n",
    "\n",
    "2. **DSDV (Destination-Sequenced Distance-Vector):**\n",
    "   - **Baseado no Algoritmo de Bellman-Ford:** Inclui números de sequência para evitar rotas obsoletas e ciclos【20:3†source】.\n",
    "\n",
    "### Elementos das Redes Sem Fios\n",
    "1. **Infraestrutura vs. Ad-Hoc:**\n",
    "   - **Infraestrutura:** Inclui estações base que ligam nós móveis à rede principal.\n",
    "   - **Ad-Hoc:** Não utiliza estações base; os nós comunicam diretamente entre si, auto-organizando-se para encaminhamento de tráfego【20:3†source】.\n",
    "\n",
    "2. **Taxonomia das Redes Sem Fios:**\n",
    "   - **Salto único vs. Múltiplos Saltos:** Redes com um único salto usam um ponto de acesso, enquanto redes com múltiplos saltos (como MANETs e VANETs) podem usar vários nós relé para comunicação【20:3†source】.\n",
    "\n",
    "### Aplicações e Contextos\n",
    "1. **Redes Pessoais e Eventos Públicos:**\n",
    "   - **Cenários como conferências e catástrofes:** Permitem formação de redes ad-hoc para comunicação eficiente e partilha de dados【20:4†source】.\n",
    "\n",
    "Este resumo cobre os principais conceitos, desafios, e exemplos de funcionamento das redes móveis ad-hoc, conforme detalhado no documento."
   ]
  }
 ],
 "metadata": {
  "language_info": {
   "name": "python"
  }
 },
 "nbformat": 4,
 "nbformat_minor": 2
}
